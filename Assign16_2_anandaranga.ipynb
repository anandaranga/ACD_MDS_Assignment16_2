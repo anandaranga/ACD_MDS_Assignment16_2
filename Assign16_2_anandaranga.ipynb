{
 "cells": [
  {
   "cell_type": "markdown",
   "metadata": {},
   "source": [
    "## Assignment 16.2\n",
    "### ACD MDS (Mar 2018 batch) Student: K. Anandaranga"
   ]
  },
  {
   "cell_type": "code",
   "execution_count": 1,
   "metadata": {},
   "outputs": [],
   "source": [
    "#Find the variance for the following set of data representing trees in California (heights in feet):\n",
    "# 3, 21, 98, 203, 17, 9"
   ]
  },
  {
   "cell_type": "code",
   "execution_count": 10,
   "metadata": {},
   "outputs": [
    {
     "name": "stdout",
     "output_type": "stream",
     "text": [
      "6219.9 6219.9\n",
      "Variance of the sample is \n",
      "-----------------------------------\n"
     ]
    },
    {
     "data": {
      "text/plain": [
       "' 6219.9 feet'"
      ]
     },
     "execution_count": 10,
     "metadata": {},
     "output_type": "execute_result"
    }
   ],
   "source": [
    "import numpy as np\n",
    "\n",
    "#import pandas as pd\n",
    "\n",
    "d = [3, 21, 98, 203, 17, 9]\n",
    "v = np.var(d, ddof=1) # Set the ddof = 1 to show this is sample variance, not population variance\n",
    "dev = np.std(d, ddof=1)\n",
    "v2 = dev**2 # validate the sample variance as square of stdev\n",
    "print (v, v2)\n",
    "\n",
    "print (\"Variance of the sample is \" )\n",
    "print (\"-\"*35)\n",
    "' {} feet'.format (v)"
   ]
  },
  {
   "cell_type": "code",
   "execution_count": null,
   "metadata": {},
   "outputs": [],
   "source": []
  }
 ],
 "metadata": {
  "kernelspec": {
   "display_name": "Python 3",
   "language": "python",
   "name": "python3"
  },
  "language_info": {
   "codemirror_mode": {
    "name": "ipython",
    "version": 3
   },
   "file_extension": ".py",
   "mimetype": "text/x-python",
   "name": "python",
   "nbconvert_exporter": "python",
   "pygments_lexer": "ipython3",
   "version": "3.6.1"
  }
 },
 "nbformat": 4,
 "nbformat_minor": 2
}
